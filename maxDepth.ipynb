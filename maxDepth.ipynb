{
 "cells": [
  {
   "cell_type": "markdown",
   "id": "911d7bde-8735-41c8-b5f1-156f35b13667",
   "metadata": {},
   "source": [
    "# Standalone Function\n",
    "#### If you want `maxDepth` to be a standalone function, it should be defined outside of the `Node` class:"
   ]
  },
  {
   "cell_type": "code",
   "execution_count": 19,
   "id": "0dae6682-a343-4e7b-a458-d1e68c5907ce",
   "metadata": {},
   "outputs": [
    {
     "name": "stdout",
     "output_type": "stream",
     "text": [
      "4\n"
     ]
    }
   ],
   "source": [
    "class Node:\n",
    "    def __init__(self, data):\n",
    "        self.data = data\n",
    "        self.right = None\n",
    "        self.left = None\n",
    "\n",
    "def maxDepth(node):\n",
    "    if node is None:\n",
    "        return 0\n",
    "    else:\n",
    "        return 1 + max(maxDepth(node.left), maxDepth(node.right))\n",
    "\n",
    "root = Node(5)\n",
    "root.left = Node(7)\n",
    "root.right=Node(9)\n",
    "root.left.left=Node(99)\n",
    "root.left.right=Node(999)\n",
    "root.left.left.left=Node(9999)\n",
    "\n",
    "print(maxDepth(root))\n"
   ]
  },
  {
   "cell_type": "markdown",
   "id": "3bcc0719-b672-4c0a-baff-cb0fff39648c",
   "metadata": {},
   "source": [
    "# Instance Method\n",
    "#### If you want `maxDepth` to be an instance method, it should be defined with the `self` parameter, and you need to call it on an instance of the `Node` class:"
   ]
  },
  {
   "cell_type": "code",
   "execution_count": 10,
   "id": "eb3fb5c2-fc9c-441d-ad87-1671d1a94d59",
   "metadata": {},
   "outputs": [
    {
     "name": "stdout",
     "output_type": "stream",
     "text": [
      "4\n"
     ]
    }
   ],
   "source": [
    "class Node:\n",
    "    def __init__(self, data):\n",
    "        self.data=data\n",
    "        self.left=None\n",
    "        self.right=None\n",
    "\n",
    "    def maxDepth(self):\n",
    "        if self is None:\n",
    "             return 0\n",
    "        else:\n",
    "            ldepth=self.left.maxDepth() if self.left else 0\n",
    "            rdepth=self.right.maxDepth() if self.right else 0\n",
    "\n",
    "            return max(ldepth, rdepth)+1\n",
    "\n",
    "root = Node(5)\n",
    "root.left = Node(7)\n",
    "root.right=Node(9)\n",
    "root.left.left=Node(99)\n",
    "root.left.right=Node(999)\n",
    "root.left.left.left=Node(9999)\n",
    "\n",
    "print(root.maxDepth())"
   ]
  }
 ],
 "metadata": {
  "kernelspec": {
   "display_name": "Python 3 (ipykernel)",
   "language": "python",
   "name": "python3"
  },
  "language_info": {
   "codemirror_mode": {
    "name": "ipython",
    "version": 3
   },
   "file_extension": ".py",
   "mimetype": "text/x-python",
   "name": "python",
   "nbconvert_exporter": "python",
   "pygments_lexer": "ipython3",
   "version": "3.12.3"
  }
 },
 "nbformat": 4,
 "nbformat_minor": 5
}
