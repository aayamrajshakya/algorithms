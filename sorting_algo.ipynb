{
 "cells": [
  {
   "cell_type": "markdown",
   "id": "fb285814-bb38-480c-af99-8d4b9989105b",
   "metadata": {},
   "source": [
    "# Bubble sort"
   ]
  },
  {
   "cell_type": "code",
   "execution_count": 2,
   "id": "21384371-2762-41a2-b1ad-b176140b1afa",
   "metadata": {},
   "outputs": [
    {
     "name": "stdout",
     "output_type": "stream",
     "text": [
      "[1, 3, 4, 5.8, 6, 8, 16, 49]\n"
     ]
    }
   ],
   "source": [
    "# Time complexity: O(n^2)\n",
    "# Space complexity: O(1)\n",
    "\n",
    "def bubble(list_a):\n",
    "    indexing_length = len(list_a)-1\n",
    "    sorted = False\n",
    "\n",
    "    while not sorted:\n",
    "        sorted= True\n",
    "        for i in range(indexing_length):\n",
    "            if list_a[i] > list_a[i+1]:\n",
    "                sorted=False\n",
    "                list_a[i], list_a[i+1],  = list_a[i+1], list_a[i]\n",
    "    return list_a\n",
    "\n",
    "print(bubble([4,8,5.8,6,1,3,49,16]))"
   ]
  },
  {
   "cell_type": "markdown",
   "id": "551e0bf5-7c79-4350-ad50-bbc85c938e8f",
   "metadata": {},
   "source": [
    "# Merge sort"
   ]
  },
  {
   "cell_type": "code",
   "execution_count": 1,
   "id": "d15bfd17-59f1-4eef-b380-fff2cd7c66bd",
   "metadata": {},
   "outputs": [
    {
     "name": "stdout",
     "output_type": "stream",
     "text": [
      "[0, 9, 12, 69, 69, 75, 81, 99, 99, 101]\n"
     ]
    }
   ],
   "source": [
    "# Time complexity: O(n*log n)\n",
    "# Space complexity: O(n)\n",
    "\n",
    "def merge_sort(list):\n",
    "    length = len(list)\n",
    "\n",
    "    if length == 1:\n",
    "        return list\n",
    "\n",
    "    mid = length // 2\n",
    "\n",
    "    left = merge_sort(list[:mid])\n",
    "    right = merge_sort(list[mid:])\n",
    "\n",
    "    return merge(left, right)\n",
    "\n",
    "\n",
    "def merge(left, right):\n",
    "    output = []\n",
    "    i = j = 0\n",
    "\n",
    "    while i < len(left) and j < len(right):\n",
    "        if left[i] < right[j]:\n",
    "            output.append(left[i])\n",
    "            i += 1\n",
    "        else:\n",
    "            output.append(right[j])\n",
    "            j += 1\n",
    "\n",
    "    while i < len(left):\n",
    "        output.append(left[i])\n",
    "        i+=1\n",
    "    while j < len(right):\n",
    "        output.append(right[j])\n",
    "        j +=1\n",
    "\n",
    "    return output\n",
    "\n",
    "print(merge_sort([99,0,69, 101, 99,81,75,12,9,69]))"
   ]
  },
  {
   "cell_type": "markdown",
   "id": "1086f900-2802-46eb-acec-aaa45ec397b7",
   "metadata": {},
   "source": [
    "# Quick sort"
   ]
  },
  {
   "cell_type": "code",
   "execution_count": 3,
   "id": "96fff2c7-d6e8-4c05-9b4e-d2ea7aa8b9e0",
   "metadata": {},
   "outputs": [
    {
     "name": "stdout",
     "output_type": "stream",
     "text": [
      "[-1, 0, 0, 5, 8, 13, 20, 21, 22, 72, 99, 123]\n"
     ]
    }
   ],
   "source": [
    "# Time complexity: O(n^2)\n",
    "# Space complexity: O(log n)\n",
    "\n",
    "def partition(list, low, high):\n",
    "    i = low\n",
    "    pivot = list[high]\n",
    "\n",
    "    for j in range(low, high):\n",
    "        if list[j]<=pivot:\n",
    "            list[i], list[j] = list[j], list[i]\n",
    "            i+=1\n",
    "\n",
    "    list[i], list[high] = list[high], list[i]\n",
    "\n",
    "    return i\n",
    "\n",
    "\n",
    "def quick_sort(list, low, high):\n",
    "    if low < high:\n",
    "        partition_index = partition(list, low, high)\n",
    "        quick_sort(list, low, partition_index - 1)\n",
    "        quick_sort(list, partition_index + 1, high)\n",
    "\n",
    "def main():\n",
    "    list = [99, 0, 5, 20, 123, 0, -1, 72, 21, 22, 13, 8]\n",
    "    quick_sort(list, 0, len(list) - 1)\n",
    "    print(list)\n",
    "main()"
   ]
  },
  {
   "cell_type": "markdown",
   "id": "8eaa5856-cae7-4954-b36b-a275e64e08e8",
   "metadata": {},
   "source": [
    "# Selection sort"
   ]
  },
  {
   "cell_type": "code",
   "execution_count": 4,
   "id": "eb4c3d26-e769-4a27-a95f-48ffc8684008",
   "metadata": {},
   "outputs": [
    {
     "name": "stdout",
     "output_type": "stream",
     "text": [
      "[1, 3, 4, 9, 31, 31]\n"
     ]
    }
   ],
   "source": [
    "# Time complexity: O(n^2) --- (both worst and best cases)\n",
    "# Space complexity: O(1)\n",
    "\n",
    "def selection_sort(list):\n",
    "    n = len(list)\n",
    "    num = n-1\n",
    "\n",
    "    for i in range(num):\n",
    "        min = i\n",
    "        for j in range(i+1, n):\n",
    "            if list[j] < list[min]:\n",
    "                min = j\n",
    "        list[i], list[min] = list[min], list[i]\n",
    "    return list\n",
    "print(selection_sort([4,3,1,31,31,9]))"
   ]
  },
  {
   "cell_type": "markdown",
   "id": "1c887d55-68d3-44ac-8151-f36c853b6614",
   "metadata": {},
   "source": [
    "# Insertion sort"
   ]
  },
  {
   "cell_type": "code",
   "execution_count": 2,
   "id": "64c7b22e-67d8-4f5f-bd9c-2afe163f99a2",
   "metadata": {},
   "outputs": [
    {
     "name": "stdout",
     "output_type": "stream",
     "text": [
      "[1, 2, 3, 9, 9, 11, 54, 69]\n"
     ]
    }
   ],
   "source": [
    "# Time complexity: O(n^2) -- worst case\n",
    "# best-case --> O(n)\n",
    "# Space complexity: O(1)\n",
    "\n",
    "def insertion_sort(list):\n",
    "    n = len(list)\n",
    "\n",
    "    for i in range(1, n):\n",
    "        j = i\n",
    "        while j > 0 and list[j-1] > list[j]:\n",
    "            list[j], list[j-1] = list[j-1], list[j]\n",
    "            j -= 1\n",
    "    return list\n",
    "\n",
    "print(insertion_sort([3, 9, 2, 1, 11, 9, 69, 54]))"
   ]
  },
  {
   "cell_type": "markdown",
   "id": "33179cd4-ef5a-41ac-9c2d-f98a28c94779",
   "metadata": {},
   "source": [
    "# Heap sort"
   ]
  },
  {
   "cell_type": "code",
   "execution_count": 12,
   "id": "87892735-ea14-45c9-85a4-c3b8e978e69d",
   "metadata": {},
   "outputs": [
    {
     "name": "stdout",
     "output_type": "stream",
     "text": [
      "[-1, 0, 5, 6, 7, 11, 12, 13, 69, 89]\n"
     ]
    }
   ],
   "source": [
    "# Time complexity: O(n*log n)\n",
    "# Space complexity: O(1)\n",
    "\n",
    "def heapify(arr, n, i):\n",
    "    largest = i  # Initialize largest as root\n",
    "    l = 2 * i + 1 \n",
    "    r = 2 * i + 2 \n",
    " \n",
    " # See if left child of root exists and is greater than root\n",
    "    if l < n and arr[i] < arr[l]:\n",
    "        largest = l\n",
    " \n",
    " # See if right child of root exists and is greater than root\n",
    "    if r < n and arr[largest] < arr[r]:\n",
    "        largest = r\n",
    " \n",
    " # Change root, if needed\n",
    "    if largest != i:\n",
    "        (arr[i], arr[largest]) = (arr[largest], arr[i])  # swap\n",
    " \n",
    "  # Heapify the root.\n",
    "        heapify(arr, n, largest)\n",
    " \n",
    "def heapSort(arr):\n",
    "    n = len(arr)\n",
    " \n",
    " # Build a maxheap. Since last parent will be at (n//2) we can start at that location.\n",
    "    for i in range(n // 2, -1, -1):\n",
    "        heapify(arr, n, i)\n",
    " \n",
    " # One by one extract elements\n",
    "    for i in range(n - 1, 0, -1):\n",
    "        (arr[i], arr[0]) = (arr[0], arr[i])  # swap\n",
    "        heapify(arr, i, 0)\n",
    " \n",
    "arr = [12, 11, 13, 5, 6, 7, 89, 69, -1, 0]\n",
    "heapSort(arr)\n",
    "print(arr)\n",
    " "
   ]
  },
  {
   "cell_type": "markdown",
   "id": "ff561554-701f-4bf3-9819-19b3c6a554ba",
   "metadata": {},
   "source": [
    "# Bogo sort"
   ]
  },
  {
   "cell_type": "code",
   "execution_count": 3,
   "id": "8503135e-4530-45a0-90ba-5be407bcc048",
   "metadata": {},
   "outputs": [
    {
     "name": "stdout",
     "output_type": "stream",
     "text": [
      "Unsorted array: [33, 58, 84, 27, 2, 64, 71, 97, 24, 1]\n",
      "Sorted array: [1, 2, 24, 27, 33, 58, 64, 71, 84, 97]\n"
     ]
    }
   ],
   "source": [
    "import random\n",
    "\n",
    "# bogosort\n",
    "# what happens is there is a random array that is generated by the last function\n",
    "# the first function checks whether the array is sorted or not\n",
    "# the second function repeatedly shuffles the array for as long as it remains unsorted\n",
    "# and that's it\n",
    "# happy coding =>\n",
    "\n",
    "# this function checks whether or not the array is sorted\n",
    "def is_sorted(random_array):\n",
    "  for i in range(1, len(random_array)):\n",
    "    if random_array[i] < random_array[i - 1]:\n",
    "      return False\n",
    "  return True\n",
    "\n",
    "# this function repeatedly shuffles the elements of the array until they are sorted\n",
    "def bogo_sort(random_array):\n",
    "  while not is_sorted(random_array):\n",
    "    random.shuffle(random_array)\n",
    "  return random_array\n",
    "\n",
    "# this function generates an array with randomly chosen integer values\n",
    "def generate_random_array(size, min_val, max_val):\n",
    "  return [random.randint(min_val, max_val) for _ in range(size)]\n",
    "\n",
    "# the size, minimum value and maximum value of the randomly generated array\n",
    "size = 10\n",
    "min_val = 1\n",
    "max_val = 100\n",
    "random_array = generate_random_array(size, min_val, max_val)\n",
    "print(\"Unsorted array:\", random_array)\n",
    "sorted_arr = bogo_sort(random_array)\n",
    "print(\"Sorted array:\", sorted_arr)"
   ]
  }
 ],
 "metadata": {
  "kernelspec": {
   "display_name": "Python 3 (ipykernel)",
   "language": "python",
   "name": "python3"
  },
  "language_info": {
   "codemirror_mode": {
    "name": "ipython",
    "version": 3
   },
   "file_extension": ".py",
   "mimetype": "text/x-python",
   "name": "python",
   "nbconvert_exporter": "python",
   "pygments_lexer": "ipython3",
   "version": "3.12.5"
  }
 },
 "nbformat": 4,
 "nbformat_minor": 5
}
