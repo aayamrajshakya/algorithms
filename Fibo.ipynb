{
 "cells": [
  {
   "cell_type": "markdown",
   "id": "d228f823-cc00-4462-bbcf-a8ae986858df",
   "metadata": {},
   "source": [
    "# Fibonacci (memoization)"
   ]
  },
  {
   "cell_type": "code",
   "execution_count": null,
   "id": "66430ecc-6bac-41b7-876b-979751b13e15",
   "metadata": {},
   "outputs": [],
   "source": [
    "def fib(n):\n",
    "    if n<=1:\n",
    "        return n\n",
    "    f = [0] * (n+1)\n",
    "    f[0]=0\n",
    "    f[1]=1\n",
    "    for i in range(2, n+1):\n",
    "        f[i]=f[i-2]+f[i-1]\n",
    "    return f\n",
    "\n",
    "def main():\n",
    "    print(fib(10))\n",
    "\n",
    "main()"
   ]
  },
  {
   "cell_type": "markdown",
   "id": "5ce871ed-614c-44ce-ba27-6529e1a02c14",
   "metadata": {},
   "source": [
    "# Fibonacci (simple)"
   ]
  },
  {
   "cell_type": "code",
   "execution_count": 9,
   "id": "c24fe44d-62b0-4bd0-9ad0-7adf7c2f509e",
   "metadata": {},
   "outputs": [
    {
     "name": "stdout",
     "output_type": "stream",
     "text": [
      "55\n"
     ]
    }
   ],
   "source": [
    "def fib(n):\n",
    "    if n<=1:\n",
    "        return n\n",
    "    return fib(n-1)+fib(n-2)\n",
    "\n",
    "def main():\n",
    "    print(fib(10))\n",
    "main()"
   ]
  }
 ],
 "metadata": {
  "kernelspec": {
   "display_name": "Python 3 (ipykernel)",
   "language": "python",
   "name": "python3"
  },
  "language_info": {
   "codemirror_mode": {
    "name": "ipython",
    "version": 3
   },
   "file_extension": ".py",
   "mimetype": "text/x-python",
   "name": "python",
   "nbconvert_exporter": "python",
   "pygments_lexer": "ipython3",
   "version": "3.12.3"
  }
 },
 "nbformat": 4,
 "nbformat_minor": 5
}
