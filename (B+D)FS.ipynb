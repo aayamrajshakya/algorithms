{
 "cells": [
  {
   "cell_type": "markdown",
   "id": "346afe32-b56f-4287-9c0f-682fae2b8ec6",
   "metadata": {},
   "source": [
    "# Breadth-first search"
   ]
  },
  {
   "cell_type": "code",
   "execution_count": 1,
   "id": "b44519b7-21c6-41d5-af95-8d9f7892eaa0",
   "metadata": {},
   "outputs": [
    {
     "name": "stdout",
     "output_type": "stream",
     "text": [
      "A B C D E F G H I "
     ]
    }
   ],
   "source": [
    "def bfs(graph, node):\n",
    "    visited = []\n",
    "    queue = []\n",
    "\n",
    "    visited.append(node)\n",
    "    queue.append(node)\n",
    "\n",
    "    while queue:\n",
    "        s = queue.pop(0)  # Use pop(0) to remove the first element, ensuring it behaves like a queue\n",
    "        print(s, end=' ')\n",
    "\n",
    "        for n in graph[s]:\n",
    "            if n not in visited:\n",
    "                visited.append(n)\n",
    "                queue.append(n)\n",
    "\n",
    "graph = {\n",
    "    'A': ['B', 'C'],\n",
    "    'B': ['D', 'E', 'F'],\n",
    "    'C': ['G'],\n",
    "    'D': [],\n",
    "    'E': [],\n",
    "    'F': ['H'],\n",
    "    'G': ['I'],\n",
    "    'H': [],\n",
    "    'I': []\n",
    "}\n",
    "\n",
    "bfs(graph, 'A')"
   ]
  },
  {
   "cell_type": "markdown",
   "id": "c784b3dc-44e2-42f7-833d-f1ee6d31d776",
   "metadata": {},
   "source": [
    "# Depth-first search"
   ]
  },
  {
   "cell_type": "code",
   "execution_count": 4,
   "id": "22ae5478-5963-4632-b3fa-48d2e569d818",
   "metadata": {},
   "outputs": [
    {
     "name": "stdout",
     "output_type": "stream",
     "text": [
      "A B D E F H C G I "
     ]
    }
   ],
   "source": [
    "def dfs(graph, node):\n",
    "    visited = []\n",
    "    stack = []\n",
    "\n",
    "    visited.append(node)\n",
    "    stack.append(node)\n",
    "\n",
    "    while stack:\n",
    "        s=stack.pop()\n",
    "        print(s, end = ' ')\n",
    "\n",
    "        for n in reversed(graph[s]):\n",
    "            if n not in visited:\n",
    "                visited.append(n)\n",
    "                stack.append(n)\n",
    "\n",
    "graph = {\n",
    "    'A': ['B', 'C'],\n",
    "    'B': ['D', 'E', 'F'],\n",
    "    'C': ['G'],\n",
    "    'D': [],\n",
    "    'E': [],\n",
    "    'F': ['H'],\n",
    "    'G': ['I'],\n",
    "    'H': [],\n",
    "    'I': []\n",
    "}\n",
    "\n",
    "dfs(graph, 'A')"
   ]
  }
 ],
 "metadata": {
  "kernelspec": {
   "display_name": "Python 3 (ipykernel)",
   "language": "python",
   "name": "python3"
  },
  "language_info": {
   "codemirror_mode": {
    "name": "ipython",
    "version": 3
   },
   "file_extension": ".py",
   "mimetype": "text/x-python",
   "name": "python",
   "nbconvert_exporter": "python",
   "pygments_lexer": "ipython3",
   "version": "3.12.3"
  }
 },
 "nbformat": 4,
 "nbformat_minor": 5
}
