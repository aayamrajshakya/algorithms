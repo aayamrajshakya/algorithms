{
 "cells": [
  {
   "cell_type": "markdown",
   "id": "03172c44-39ac-4afc-aa97-c30c008df7de",
   "metadata": {},
   "source": [
    "# https://www.youtube.com/watch?v=tWVWeAqZ0WU"
   ]
  },
  {
   "cell_type": "markdown",
   "id": "cd1f8d4c-98e0-4515-94ea-4e0a1759c01e",
   "metadata": {},
   "source": [
    "# Has Path"
   ]
  },
  {
   "cell_type": "code",
   "execution_count": 1,
   "id": "3e667c54-84eb-46e5-aca7-e64046eb895a",
   "metadata": {},
   "outputs": [
    {
     "name": "stdout",
     "output_type": "stream",
     "text": [
      "True\n"
     ]
    }
   ],
   "source": [
    "def buildGraph(edges):\n",
    "    graph = {}\n",
    "    for edge in edges:\n",
    "        [a, b] = edge\n",
    "        if a not in graph: graph[a] = []\n",
    "        if b not in graph: graph[b] = []\n",
    "        graph[a].append(b)\n",
    "        graph[b].append(a)\n",
    "    \n",
    "    return graph\n",
    "\n",
    "edges = [\n",
    "    ['i', 'j'],\n",
    "    ['k', 'i'],\n",
    "    ['m', 'k'],\n",
    "    ['k', 'l'],\n",
    "    ['o', 'n']\n",
    "]\n",
    "\n",
    "\n",
    "def hasPath(edges, source, destination, visited=None):\n",
    "    if visited is None: visited = set()\n",
    "        \n",
    "    graph = buildGraph(edges)\n",
    "    if source == destination: return True\n",
    "    if source in visited: return False\n",
    "    \n",
    "    visited.add(source)\n",
    "    \n",
    "    for neighbor in graph[source]:\n",
    "        if hasPath(edges, neighbor, destination, visited): return True \n",
    "    return False\n",
    "\n",
    "print(hasPath(edges, 'j', 'm'))"
   ]
  },
  {
   "cell_type": "markdown",
   "id": "20bc2c0c-cbe1-419c-93a3-a4585c5b2006",
   "metadata": {},
   "source": [
    "# Shortest Path"
   ]
  },
  {
   "cell_type": "code",
   "execution_count": 2,
   "id": "61d0fb04-1ba8-42e6-85bb-e5077f36da39",
   "metadata": {},
   "outputs": [
    {
     "name": "stdout",
     "output_type": "stream",
     "text": [
      "2\n"
     ]
    }
   ],
   "source": [
    "def shortestPath(edges, nodeA, nodeB):\n",
    "    graph = buildGraph(edges)\n",
    "    visited = set([nodeA])\n",
    "    queue = [[nodeA, 0]]\n",
    "    \n",
    "    while queue:\n",
    "        [node, distance] = queue.pop(0)\n",
    "        \n",
    "        if node == nodeB: return distance\n",
    "        \n",
    "        for neighbor in graph[node]:\n",
    "            if neighbor not in visited:\n",
    "                visited.add(neighbor)\n",
    "                queue.append([neighbor, distance+1])\n",
    "    return -1\n",
    "    \n",
    "\n",
    "def buildGraph(edges):\n",
    "    graph = {}\n",
    "    for edge in edges:\n",
    "        [a, b] = edge\n",
    "        if a not in graph: graph[a] = []\n",
    "        if b not in graph: graph[b] = []\n",
    "        graph[a].append(b)\n",
    "        graph[b].append(a)\n",
    "    return graph\n",
    "\n",
    "edges = [\n",
    "    ['a', 'c'],\n",
    "    ['a', 'b'],\n",
    "    ['c', 'b'],\n",
    "    ['c', 'd'],\n",
    "    ['b', 'd'],\n",
    "    ['e', 'd'],\n",
    "    ['g', 'f']\n",
    "]\n",
    "\n",
    "print(shortestPath(edges, 'b', 'e'))\n"
   ]
  },
  {
   "cell_type": "markdown",
   "id": "0dcd5587-e2f6-4445-907e-861fc708061c",
   "metadata": {},
   "source": [
    "# Largest Component"
   ]
  },
  {
   "cell_type": "code",
   "execution_count": 3,
   "id": "d6ba4d82-a4e4-4b7f-aac2-55c39e9cc2ff",
   "metadata": {},
   "outputs": [
    {
     "name": "stdout",
     "output_type": "stream",
     "text": [
      "4\n"
     ]
    }
   ],
   "source": [
    "def largestComponent(graph):\n",
    "    visited = set()\n",
    "    longest = 0\n",
    "    for node in graph:\n",
    "        size = exploreSize(graph, node, visited)\n",
    "        if size > longest: longest = size\n",
    "    return longest\n",
    "    \n",
    "def exploreSize(graph, node, visited):\n",
    "    if node in visited: return 0\n",
    "    visited.add(node)\n",
    "    # represent current node\n",
    "    size = 1\n",
    "    \n",
    "    for neighbor in graph[node]:\n",
    "        size = size + exploreSize(graph, neighbor, visited)\n",
    "    return size\n",
    "    \n",
    "graph = {\n",
    "    '0': ['8', '1', '5'],\n",
    "    '1': ['0'],\n",
    "    '5': ['0', '8'],\n",
    "    '8': ['0', '5'],\n",
    "    '2': ['3', '4'],\n",
    "    '3': ['2', '4'],\n",
    "    '4': ['3', '2']\n",
    "}\n",
    "\n",
    "print(largestComponent(graph))"
   ]
  },
  {
   "cell_type": "markdown",
   "id": "f6114508-49f6-4d2b-8e49-0daaffc085f6",
   "metadata": {},
   "source": [
    "# Connected Component"
   ]
  },
  {
   "cell_type": "code",
   "execution_count": 4,
   "id": "c1f06f8c-6d6f-409e-abfc-f66b67546794",
   "metadata": {},
   "outputs": [
    {
     "name": "stdout",
     "output_type": "stream",
     "text": [
      "2\n"
     ]
    }
   ],
   "source": [
    "def connectedComponent(graph):\n",
    "    visited = set()\n",
    "    count = 0\n",
    "    for node in graph:\n",
    "        if explore(graph, node, visited) == True:\n",
    "            count = count + 1\n",
    "    return count\n",
    "        \n",
    "def explore(graph, current, visited):\n",
    "    if current in visited:\n",
    "        return False\n",
    "    \n",
    "    visited.add(current)\n",
    "    for neighbor in graph[current]:\n",
    "        explore(graph, neighbor, visited)\n",
    "    return True\n",
    "    \n",
    "graph = {\n",
    "    '0': ['8', '1', '5'],\n",
    "    '1': ['0'],\n",
    "    '5': ['0', '8'],\n",
    "    '8': ['0', '5'],\n",
    "    '2': ['3', '4'],\n",
    "    '3': ['2', '4'],\n",
    "    '4': ['3', '2']\n",
    "}\n",
    "\n",
    "print(connectedComponent(graph))"
   ]
  },
  {
   "cell_type": "code",
   "execution_count": null,
   "id": "d87d447f-6843-41a5-bd56-1556014ab3fb",
   "metadata": {},
   "outputs": [],
   "source": []
  }
 ],
 "metadata": {
  "kernelspec": {
   "display_name": "Python 3 (ipykernel)",
   "language": "python",
   "name": "python3"
  },
  "language_info": {
   "codemirror_mode": {
    "name": "ipython",
    "version": 3
   },
   "file_extension": ".py",
   "mimetype": "text/x-python",
   "name": "python",
   "nbconvert_exporter": "python",
   "pygments_lexer": "ipython3",
   "version": "3.13.0"
  }
 },
 "nbformat": 4,
 "nbformat_minor": 5
}
