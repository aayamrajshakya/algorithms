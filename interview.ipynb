{
 "cells": [
  {
   "cell_type": "markdown",
   "id": "61eb73fb-dca9-41d8-b055-92823eb0178d",
   "metadata": {},
   "source": [
    "## Find duplicate number in integer list"
   ]
  },
  {
   "cell_type": "code",
   "execution_count": 17,
   "id": "d3375b69-7a94-4055-9625-ae073a20320f",
   "metadata": {},
   "outputs": [
    {
     "name": "stdout",
     "output_type": "stream",
     "text": [
      "[11, 21]\n"
     ]
    }
   ],
   "source": [
    "def find_duplicates(lst):\n",
    "    duplicates, seen = set(), set()\n",
    "    for elem in lst:\n",
    "        if elem in seen:\n",
    "            duplicates.add(elem)\n",
    "        seen.add(elem)\n",
    "    return list(duplicates)\n",
    "\n",
    "print(find_duplicates([1,2,21,11,10,119,21,99,11]))"
   ]
  },
  {
   "cell_type": "markdown",
   "id": "69bf57e0-de99-447a-959d-6e5a3987fe07",
   "metadata": {},
   "source": [
    "## Find pairs of integers in list so that their sum is equal to integer x"
   ]
  },
  {
   "cell_type": "code",
   "execution_count": 18,
   "id": "10627d49-17ce-41da-b545-583ec4278bb7",
   "metadata": {},
   "outputs": [
    {
     "name": "stdout",
     "output_type": "stream",
     "text": [
      "[[1, 8], [2, 7], [3, 6], [4, 5]]\n"
     ]
    }
   ],
   "source": [
    "def find_pairs(lst, target):\n",
    "    pairs=[]\n",
    "    for (index1, elem1) in enumerate(lst):\n",
    "        for (index2, elem2) in enumerate(lst[index1+1:]):\n",
    "            if elem1 + elem2 == target:\n",
    "                pairs.append([elem1, elem2])\n",
    "    return pairs\n",
    "\n",
    "print(find_pairs([1,2,3,4,5,6,7,8,9], 9))"
   ]
  },
  {
   "cell_type": "code",
   "execution_count": null,
   "id": "9e2a8767-f9c8-4dfc-ab41-4d46716bb71f",
   "metadata": {},
   "outputs": [],
   "source": []
  }
 ],
 "metadata": {
  "kernelspec": {
   "display_name": "Python 3 (ipykernel)",
   "language": "python",
   "name": "python3"
  },
  "language_info": {
   "codemirror_mode": {
    "name": "ipython",
    "version": 3
   },
   "file_extension": ".py",
   "mimetype": "text/x-python",
   "name": "python",
   "nbconvert_exporter": "python",
   "pygments_lexer": "ipython3",
   "version": "3.12.3"
  }
 },
 "nbformat": 4,
 "nbformat_minor": 5
}
